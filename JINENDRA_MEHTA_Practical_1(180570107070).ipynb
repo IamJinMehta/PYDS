{
  "nbformat": 4,
  "nbformat_minor": 0,
  "metadata": {
    "kernelspec": {
      "display_name": "Python 3",
      "language": "python",
      "name": "python3"
    },
    "language_info": {
      "codemirror_mode": {
        "name": "ipython",
        "version": 3
      },
      "file_extension": ".py",
      "mimetype": "text/x-python",
      "name": "python",
      "nbconvert_exporter": "python",
      "pygments_lexer": "ipython3",
      "version": "3.7.0"
    },
    "colab": {
      "name": "JINENDRA MEHTA - Practical-1(180570107070).ipynb",
      "provenance": [],
      "collapsed_sections": [],
      "include_colab_link": true
    }
  },
  "cells": [
    {
      "cell_type": "markdown",
      "metadata": {
        "id": "view-in-github",
        "colab_type": "text"
      },
      "source": [
        "<a href=\"https://colab.research.google.com/github/jinmeta/PYDS/blob/master/JINENDRA_MEHTA_Practical_1(180570107070).ipynb\" target=\"_parent\"><img src=\"https://colab.research.google.com/assets/colab-badge.svg\" alt=\"Open In Colab\"/></a>"
      ]
    },
    {
      "cell_type": "markdown",
      "metadata": {
        "id": "MxmCWaab3pSj",
        "colab_type": "text"
      },
      "source": [
        "# Practical 1\n",
        "**Name:** Jinendra Mehta\n",
        "\n",
        "**Enrollment No:** 180570107070\n",
        "\n",
        "**Sem & Class:** 5EC2"
      ]
    },
    {
      "cell_type": "markdown",
      "metadata": {
        "id": "VC_B3jvdnoif",
        "colab_type": "text"
      },
      "source": [
        "#Write a program to create marks data of the students and output is expected as below: (Note: Marks entry is valid between only -1 to 101)\\n\",\n",
        "    \"====================\\n\",\n",
        "    \"Output:\\n\",\n",
        "    \"====================\\n\",\n",
        "    \"\\n\",\n",
        "    \"Student Name:ABC XYZ   #Student name will be given by the user. Hint:input\\n\",\n",
        "    \"\\n\",\n",
        "    \"**** Marksheet of ABC XYZ ****\\n\",\n",
        "    \"\\n\",\n",
        "    \"Mathematics:95/100       #Marks will be given by the user. Hint:input\\n\",\n",
        "    \"Chemestry:82/100         #Marks will be given by the user. Hint:input\\n\",\n",
        "    \"Physics:87/100           #Marks will be given by the user. Hint:input\\n\",\n",
        "    \"Sanskrit:80/100          #Marks will be given by the user. Hint:input\\n\",\n",
        "    \"Computer:91/100          #Marks will be given by the user. Hint:input\\n\",\n",
        "    \"                         \\n\",\n",
        "    \"Total:435/500            #Total will be displayed automatic.\\n\",\n",
        "    \"Percentage:87.00%        # Percentage should be in 00.00% format only.\\n\",\n",
        "    \"Grade:A                  # Check grade criteria given below. Hint:if-elif-else\\n\",\n",
        "    \"\\n\",\n",
        "    \"\\n\",\n",
        "    \"==================== OUTPUT END ==================\\n\",\n",
        "    \"\\n\",\n",
        "    \"GRADE CRITERIA:\\n\",\n",
        "    \"\\n\",\n",
        "    \"81%-100% ---> Grade: A\\n\",\n",
        "    \"61%-80%  ---> Grade: B\\n\",\n",
        "    \"41%-60%  ---> Grade: C\\n\",\n",
        "    \"31%-40%  ---> Grade: D\\n\",\n",
        "    \"00%-39%  ---> Grade: Fail\"\n",
        "   ]\n",
        "  },"
      ]
    },
    {
      "cell_type": "code",
      "metadata": {
        "id": "MjlIl_WYOLmt",
        "colab_type": "code",
        "colab": {
          "base_uri": "https://localhost:8080/",
          "height": 312
        },
        "outputId": "92c8e248-3bbf-45f7-ee3e-7bba0d6119b0"
      },
      "source": [
        "x=input(\"Your Name:\")\n",
        "print(\"****************** Mark sheet of \",x,\"******************\")\n",
        "a,b,c,d,e=-1,-1,-1,-1,-1\n",
        "while(a<0 or a>100):\n",
        "    a=int(input(\"please Enter your Maths marks :\"))\n",
        "    if(a<0 or a>100):\n",
        "        print(\"Please enter the value between 0 to 100\")\n",
        "while(b<0 or b>100):\n",
        "    b=int(input(\"please Enter your Chemistry marks :\"))\n",
        "    if(b<0 or b>100):\n",
        "        print(\"Please enter the value between 0 to 100\")\n",
        "while(c<0 or c>100):\n",
        "    c=int(input(\"please Enter your Physics marks :\"))\n",
        "    if(c<0 or c>100):\n",
        "        print(\"Please enter the value between 0 to 100\")\n",
        "while(d<0 or d>100):\n",
        "    d=int(input(\"please Enter your Sanskrit marks :\"))\n",
        "    if(d<0 or d>100):\n",
        "        print(\"Please enter the value between 0 to 100\")\n",
        "while(e<0 or e>100):\n",
        "    e=int(input(\"please Enter your Compute marks :\"))\n",
        "    if(e<0 or e>100):\n",
        "        print(\"Please enter the value between 0 to 100\")\n",
        "\n",
        "z=a+b+c+d+e\n",
        "print(\"Total\",z,\"/500\")\n",
        "avg=z/5\n",
        "print(\"average:\",\"{:.2f}\".format(avg),\"%\")\n",
        "if(100>=avg>81):\n",
        "  g='A'\n",
        "  print(\"Congratulations! \",x,\"you scored '\",g,\"' Grade.\")\n",
        "elif(80>=avg>61):\n",
        "  g='B'\n",
        "  print(\"Congratulations! \",x,\"you scored '\",g,\"' Grade.\")\n",
        "elif(60>=avg>40):\n",
        "  g='C'\n",
        "  print(\"Congratulations! \",x,\"you scored '\",g,\"' Grade.\")\n",
        "elif(30>=avg>0):\n",
        "  print(\"soory! You failed, Better luck next time.\")\n",
        "else:\n",
        "  pass\n",
        "\n",
        "print(\"==========================================================\")"
      ],
      "execution_count": null,
      "outputs": [
        {
          "output_type": "stream",
          "text": [
            "Your Name:Jinendra\n",
            "****************** Mark sheet of  Jinendra ******************\n",
            "please Enter your Maths marks :-101\n",
            "Please enter the value between 0 to 100\n",
            "please Enter your Maths marks :100\n",
            "please Enter your Chemistry marks :-101\n",
            "Please enter the value between 0 to 100\n",
            "please Enter your Chemistry marks :-1\n",
            "Please enter the value between 0 to 100\n",
            "please Enter your Chemistry marks :100\n",
            "please Enter your Physics marks :100\n",
            "please Enter your Sanskrit marks :100\n",
            "please Enter your Compute marks :100\n",
            "Total 500 /500\n",
            "average: 100.00 %\n",
            "Congratulations!  Jinendra you scored ' A ' Grade.\n",
            "==========================================================\n"
          ],
          "name": "stdout"
        }
      ]
    }
  ]
}