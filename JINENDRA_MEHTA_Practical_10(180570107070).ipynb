{
  "nbformat": 4,
  "nbformat_minor": 0,
  "metadata": {
    "colab": {
      "name": " JINENDRA MEHTA - Practical-10(180570107070).ipynb",
      "provenance": [],
      "collapsed_sections": [],
      "authorship_tag": "ABX9TyMflXMOZoPpnJcjHxOrjLmX",
      "include_colab_link": true
    },
    "kernelspec": {
      "name": "python3",
      "display_name": "Python 3"
    }
  },
  "cells": [
    {
      "cell_type": "markdown",
      "metadata": {
        "id": "view-in-github",
        "colab_type": "text"
      },
      "source": [
        "<a href=\"https://colab.research.google.com/github/jinmeta/PYDS/blob/master/JINENDRA_MEHTA_Practical_10(180570107070).ipynb\" target=\"_parent\"><img src=\"https://colab.research.google.com/assets/colab-badge.svg\" alt=\"Open In Colab\"/></a>"
      ]
    },
    {
      "cell_type": "markdown",
      "metadata": {
        "id": "5RH-SBsiyyOt",
        "colab_type": "text"
      },
      "source": [
        "# Practical 10\n",
        "**Name:** Jinendra Mehta\n",
        "\n",
        "**Enrollment No:** 180570107070\n",
        "\n",
        "**Sem & Class:** 5EC2"
      ]
    },
    {
      "cell_type": "markdown",
      "metadata": {
        "id": "f9zI3HAcyhh4",
        "colab_type": "text"
      },
      "source": [
        "#Write a program to print below output in the list.\n",
        "1) Print all the EVEN numbers from the list and sum of those numbers.\n",
        "2) Print all the ODD numbers from the list and sum of those numbers.\n",
        "\n",
        "====================\n",
        "Output:1\n",
        "====================\n",
        "\n",
        "list=[1,2,3,4,5,6,7,8,9,10]      -------> Create a list\n",
        "\n",
        "[2,4,6,8,10] = 30 # Print like this line\n",
        "[1,3,5,7,9] = 25 # Print like this line\n",
        "\n",
        "==================== OUTPUT END =================="
      ]
    },
    {
      "cell_type": "code",
      "metadata": {
        "id": "jz1_xMDe0zVf",
        "colab_type": "code",
        "colab": {
          "base_uri": "https://localhost:8080/",
          "height": 52
        },
        "outputId": "bab9d4e1-9cc6-4f5a-e83f-b4f6067cb00c"
      },
      "source": [
        "l=[1,2,3,4,5,6,7,8,9,10]\n",
        "e=list()\n",
        "o=list()\n",
        "for i in l:\n",
        "  if i%2==0:\n",
        "    e.append(i)\n",
        "print(e,\"=\",sum(e))\n",
        "for i in l:\n",
        "  if i%2!=0:\n",
        "    o.append(i)\n",
        "print(o,\"=\",sum(o))"
      ],
      "execution_count": 5,
      "outputs": [
        {
          "output_type": "stream",
          "text": [
            "[2, 4, 6, 8, 10] = 30\n",
            "[1, 3, 5, 7, 9] = 25\n"
          ],
          "name": "stdout"
        }
      ]
    }
  ]
}