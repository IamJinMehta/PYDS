{
  "nbformat": 4,
  "nbformat_minor": 0,
  "metadata": {
    "colab": {
      "name": "JINENDRA MEHTA - Practical-11(180570107070).ipynb",
      "provenance": [],
      "collapsed_sections": [],
      "authorship_tag": "ABX9TyNxIxht+wj4VEoFLyyDyYbV",
      "include_colab_link": true
    },
    "kernelspec": {
      "name": "python3",
      "display_name": "Python 3"
    }
  },
  "cells": [
    {
      "cell_type": "markdown",
      "metadata": {
        "id": "view-in-github",
        "colab_type": "text"
      },
      "source": [
        "<a href=\"https://colab.research.google.com/github/jinmeta/PYDS/blob/master/JINENDRA_MEHTA_Practical_11(180570107070).ipynb\" target=\"_parent\"><img src=\"https://colab.research.google.com/assets/colab-badge.svg\" alt=\"Open In Colab\"/></a>"
      ]
    },
    {
      "cell_type": "markdown",
      "metadata": {
        "id": "5RH-SBsiyyOt",
        "colab_type": "text"
      },
      "source": [
        "# Practical 11\n",
        "**Name:** Jinendra Mehta\n",
        "\n",
        "**Enrollment No:** 180570107070\n",
        "\n",
        "**Sem & Class:** 5EC2"
      ]
    },
    {
      "cell_type": "markdown",
      "metadata": {
        "id": "f9zI3HAcyhh4",
        "colab_type": "text"
      },
      "source": [
        "#Write a program that reads names of two python files and strips the extension. The filenames are then concatenated to form a single string. The program then prints 'True' if the newly generated string is a palindrome or prints 'False' otherwise.\n",
        "====================\n",
        "Output:\n",
        "====================\n",
        "\n",
        "Enter a first file name: malay.py  # User Input\n",
        "Enter a second file name: alam.py # User Input\n",
        "\n",
        "Newly generated string: malayalam #---> Remove/strips '.py' from the entered string so that you will receive newly generated string.\n",
        "Output:True      #---> 'malayalam' is a palindrome.\n",
        "\n",
        "==================== OUTPUT END =================="
      ]
    },
    {
      "cell_type": "code",
      "metadata": {
        "id": "ErM9BJ5K6l7p",
        "colab_type": "code",
        "colab": {
          "base_uri": "https://localhost:8080/",
          "height": 69
        },
        "outputId": "42f33530-3c08-42e7-eb64-7ee16c9df77a"
      },
      "source": [
        "x=input(\"Please Enter first file name :\")\n",
        "y=input(\"Please Enter seconde file name :\")\n",
        "X=x.rstrip('.py')\n",
        "Y=y.rstrip('.py')\n",
        "Z=X+Y\n",
        "if Z==Z[::-1]:\n",
        "  print(True)\n",
        "else:\n",
        "  print(False)\n"
      ],
      "execution_count": 4,
      "outputs": [
        {
          "output_type": "stream",
          "text": [
            "Please Enter first file name :malay.py\n",
            "Please Enter seconde file name :alam.py\n",
            "True\n"
          ],
          "name": "stdout"
        }
      ]
    }
  ]
}