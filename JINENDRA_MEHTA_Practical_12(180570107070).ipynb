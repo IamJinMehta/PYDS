{
  "nbformat": 4,
  "nbformat_minor": 0,
  "metadata": {
    "colab": {
      "name": "JINENDRA MEHTA - Practical-12(180570107070).ipynb",
      "provenance": [],
      "collapsed_sections": [],
      "authorship_tag": "ABX9TyP4WgCQVBCUMtW/zFaUBd/r",
      "include_colab_link": true
    },
    "kernelspec": {
      "name": "python3",
      "display_name": "Python 3"
    }
  },
  "cells": [
    {
      "cell_type": "markdown",
      "metadata": {
        "id": "view-in-github",
        "colab_type": "text"
      },
      "source": [
        "<a href=\"https://colab.research.google.com/github/jinmeta/PYDS/blob/master/JINENDRA_MEHTA_Practical_12(180570107070).ipynb\" target=\"_parent\"><img src=\"https://colab.research.google.com/assets/colab-badge.svg\" alt=\"Open In Colab\"/></a>"
      ]
    },
    {
      "cell_type": "markdown",
      "metadata": {
        "id": "5RH-SBsiyyOt",
        "colab_type": "text"
      },
      "source": [
        "# Practical 12\n",
        "**Name:** Jinendra Mehta\n",
        "\n",
        "**Enrollment No:** 180570107070\n",
        "\n",
        "**Sem & Class:** 5EC2"
      ]
    },
    {
      "cell_type": "markdown",
      "metadata": {
        "id": "f9zI3HAcyhh4",
        "colab_type": "text"
      },
      "source": [
        "#Write a program that reads full name as a input and returns abbreviations of the first and middle names except the last name. Note that the abbreviations must be in capitals. Also, only the first letter in the Surname must be in higher case. Print your output as below.\n",
        "\n",
        "====================\n",
        "Output:\n",
        "====================\n",
        "\n",
        "Enter Your Full Name: Mukesh Dhirubhai Ambani\n",
        "\n",
        "Output: M.D. Ambani\n",
        "\n",
        "\n",
        "==================== OUTPUT END =================="
      ]
    },
    {
      "cell_type": "code",
      "metadata": {
        "id": "ErM9BJ5K6l7p",
        "colab_type": "code",
        "colab": {
          "base_uri": "https://localhost:8080/",
          "height": 52
        },
        "outputId": "e4b868d7-2a0f-4ee4-fd29-f582cfeed6fa"
      },
      "source": [
        "x=[str(i) for i in input(\"Please Enter your Name :\").split()]\n",
        "a=(x[0][0].upper())\n",
        "b=(x[1][0].upper())\n",
        "c=x[2].capitalize()\n",
        "print(a+\".\"+b+\".\"+c)"
      ],
      "execution_count": 11,
      "outputs": [
        {
          "output_type": "stream",
          "text": [
            "Please Enter your Name :Jinendra Sanjaybhai Mehta\n",
            "J.S.Mehta\n"
          ],
          "name": "stdout"
        }
      ]
    }
  ]
}