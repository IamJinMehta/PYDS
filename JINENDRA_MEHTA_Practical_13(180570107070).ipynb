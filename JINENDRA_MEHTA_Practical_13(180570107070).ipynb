{
  "nbformat": 4,
  "nbformat_minor": 0,
  "metadata": {
    "colab": {
      "name": "JINENDRA MEHTA - Practical-13(180570107070).ipynb",
      "provenance": [],
      "collapsed_sections": [],
      "authorship_tag": "ABX9TyMLOxhdx3gldStMq5q28N3Y",
      "include_colab_link": true
    },
    "kernelspec": {
      "name": "python3",
      "display_name": "Python 3"
    }
  },
  "cells": [
    {
      "cell_type": "markdown",
      "metadata": {
        "id": "view-in-github",
        "colab_type": "text"
      },
      "source": [
        "<a href=\"https://colab.research.google.com/github/jinmeta/PYDS/blob/master/JINENDRA_MEHTA_Practical_13(180570107070).ipynb\" target=\"_parent\"><img src=\"https://colab.research.google.com/assets/colab-badge.svg\" alt=\"Open In Colab\"/></a>"
      ]
    },
    {
      "cell_type": "markdown",
      "metadata": {
        "id": "5RH-SBsiyyOt",
        "colab_type": "text"
      },
      "source": [
        "# Practical 13\n",
        "**Name:** Jinendra Mehta\n",
        "\n",
        "**Enrollment No:** 180570107070\n",
        "\n",
        "**Sem & Class:** 5EC2"
      ]
    },
    {
      "cell_type": "markdown",
      "metadata": {
        "id": "f9zI3HAcyhh4",
        "colab_type": "text"
      },
      "source": [
        "#A course instructor wants to compute overall GPA of a student based on his performance in the whole semester. Maximum GPA is 10. \n",
        "\n",
        "To evaluate a student, the instructor follows the policy as shown below: \n",
        "Exam Maximum Marks Weightage \n",
        "\n",
        "Quiz 1 ---> Total Marks: 20 ---> 5% \n",
        "\n",
        "Mid Sem ---> Total Marks: 50 ---> 20% \n",
        "\n",
        "Quiz 2 ---> Total Marks: 20 ---> 5% \n",
        "\n",
        "End Sem ---> Total Marks: 100 ---> 30% \n",
        "\n",
        "Lab Work ---> Total Marks: 100 ---> 20% \n",
        "\n",
        "Project ---> Total Marks: 50 ---> 20% \n",
        "\n",
        "Write a program that reads marks got by a student in all 6 exams and based on the policy shown above computes the GPA.\n",
        "\n",
        "Note: Limit the float value till two decimal points.\n",
        "\n",
        "====================\n",
        "Output:\n",
        "====================\n",
        "Quiz 1: 20\n",
        "\n",
        "Mid Sem: 40\n",
        "\n",
        "Quiz 2: 18\n",
        "\n",
        "End Sem: 80\n",
        "\n",
        "Lab Work: 90\n",
        "\n",
        "Project: 45\n",
        "\n",
        "GPA:8.55\n",
        "\n",
        "==================== OUTPUT END =================="
      ]
    },
    {
      "cell_type": "code",
      "metadata": {
        "id": "ErM9BJ5K6l7p",
        "colab_type": "code",
        "colab": {
          "base_uri": "https://localhost:8080/",
          "height": 139
        },
        "outputId": "8408b9ab-ebd7-4077-9a4a-22052bfe5724"
      },
      "source": [
        "q1=int(input(\"Please Enter your Quiz 1 marks :\"))\n",
        "mid=int(input(\"Please Enter your Mid marks :\"))\n",
        "q2=int(input(\"Please Enter your Quiz 2 marks :\"))\n",
        "end_sem=int(input(\"Please Enter your End Sem marks :\"))\n",
        "lab_work=int(input(\"Please Enter your Lab Work marks :\"))\n",
        "project=int(input(\"Please Enter your Project marks :\"))\n",
        "\n",
        "z=((q1*5)/20)+((q2*5)/20)+((mid*20)/50)+((end_sem*30)/100)+((lab_work*20)/100)+((project*20)/50)\n",
        "\n",
        "print(\"GPA :\",(z*10)/100)"
      ],
      "execution_count": 3,
      "outputs": [
        {
          "output_type": "stream",
          "text": [
            "Please Enter your Quiz 1 marks :20\n",
            "Please Enter your Mid marks :40\n",
            "Please Enter your Quiz 2 marks :18\n",
            "Please Enter your End Sem marks :80\n",
            "Please Enter your Lab Work marks :90\n",
            "Please Enter your Project marks :45\n",
            "GPA : 8.55\n"
          ],
          "name": "stdout"
        }
      ]
    }
  ]
}