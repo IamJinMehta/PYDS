{
  "nbformat": 4,
  "nbformat_minor": 0,
  "metadata": {
    "colab": {
      "name": "JINENDRA MEHTA - Practical-16(180570107070).ipynb",
      "provenance": [],
      "collapsed_sections": [],
      "authorship_tag": "ABX9TyNaOczz8KOTFh57X6O+wCFu",
      "include_colab_link": true
    },
    "kernelspec": {
      "name": "python3",
      "display_name": "Python 3"
    }
  },
  "cells": [
    {
      "cell_type": "markdown",
      "metadata": {
        "id": "view-in-github",
        "colab_type": "text"
      },
      "source": [
        "<a href=\"https://colab.research.google.com/github/jinmeta/PYDS/blob/master/JINENDRA_MEHTA_Practical_16(180570107070).ipynb\" target=\"_parent\"><img src=\"https://colab.research.google.com/assets/colab-badge.svg\" alt=\"Open In Colab\"/></a>"
      ]
    },
    {
      "cell_type": "markdown",
      "metadata": {
        "id": "5RH-SBsiyyOt",
        "colab_type": "text"
      },
      "source": [
        "# Practical 16\n",
        "**Name:** Jinendra Mehta\n",
        "\n",
        "**Enrollment No:** 180570107070\n",
        "\n",
        "**Sem & Class:** 5EC2"
      ]
    },
    {
      "cell_type": "markdown",
      "metadata": {
        "id": "f9zI3HAcyhh4",
        "colab_type": "text"
      },
      "source": [
        "# 1) Write a program to reverse the digits.\n",
        "# 2) Write a program to reverse the string.\n",
        "\n",
        "====================\n",
        "Output: 1) Write a program to reverse the digits.\n",
        "====================\n",
        "Enter a digit: 3549   # User Input\n",
        "\n",
        "Reversed Digit is: 9453\n",
        "\n",
        "====================\n",
        "Output:  2) Write a program to reverse the string.\n",
        "====================\n",
        "Enter a string: CORONA  # User Input\n",
        "\n",
        "Reversed string is: ANOROC\n",
        "\n",
        "==================== OUTPUT END =================="
      ]
    },
    {
      "cell_type": "code",
      "metadata": {
        "id": "AyJ92QfoI7O0",
        "colab_type": "code",
        "colab": {
          "base_uri": "https://localhost:8080/",
          "height": 52
        },
        "outputId": "ecc69e8e-8a0c-43d0-944c-0e056ca6719e"
      },
      "source": [
        "x=int(input(\"Plase Enter a digit :\"))\n",
        "sum=0\n",
        "while x>0:\n",
        "  n=x%10\n",
        "  sum=(sum*10)+n\n",
        "  x=x//10\n",
        "print(sum)"
      ],
      "execution_count": 1,
      "outputs": [
        {
          "output_type": "stream",
          "text": [
            "Plase Enter a digit :3549\n",
            "9453\n"
          ],
          "name": "stdout"
        }
      ]
    },
    {
      "cell_type": "code",
      "metadata": {
        "id": "FHJox7NrWf23",
        "colab_type": "code",
        "colab": {}
      },
      "source": [
        ""
      ],
      "execution_count": null,
      "outputs": []
    },
    {
      "cell_type": "code",
      "metadata": {
        "id": "6tEI68ccWWS0",
        "colab_type": "code",
        "colab": {
          "base_uri": "https://localhost:8080/",
          "height": 52
        },
        "outputId": "a245bace-7240-4767-e46c-228e276b8199"
      },
      "source": [
        "x=input(\"Please Enter a string :\")\n",
        "print(x[::-1])"
      ],
      "execution_count": 10,
      "outputs": [
        {
          "output_type": "stream",
          "text": [
            "Please Enter a string :corona\n",
            "anoroc\n"
          ],
          "name": "stdout"
        }
      ]
    }
  ]
}