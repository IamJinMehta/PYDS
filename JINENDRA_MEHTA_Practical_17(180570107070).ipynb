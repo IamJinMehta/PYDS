{
  "nbformat": 4,
  "nbformat_minor": 0,
  "metadata": {
    "colab": {
      "name": "JINENDRA MEHTA - Practical-17(180570107070).ipynb",
      "provenance": [],
      "collapsed_sections": [],
      "authorship_tag": "ABX9TyOM/U5UPZiDM6o9oecRJSNi",
      "include_colab_link": true
    },
    "kernelspec": {
      "name": "python3",
      "display_name": "Python 3"
    }
  },
  "cells": [
    {
      "cell_type": "markdown",
      "metadata": {
        "id": "view-in-github",
        "colab_type": "text"
      },
      "source": [
        "<a href=\"https://colab.research.google.com/github/jinmeta/PYDS/blob/master/JINENDRA_MEHTA_Practical_17(180570107070).ipynb\" target=\"_parent\"><img src=\"https://colab.research.google.com/assets/colab-badge.svg\" alt=\"Open In Colab\"/></a>"
      ]
    },
    {
      "cell_type": "markdown",
      "metadata": {
        "id": "5RH-SBsiyyOt",
        "colab_type": "text"
      },
      "source": [
        "# Practical 17\n",
        "**Name:** Jinendra Mehta\n",
        "\n",
        "**Enrollment No:** 180570107070\n",
        "\n",
        "**Sem & Class:** 5EC2"
      ]
    },
    {
      "cell_type": "markdown",
      "metadata": {
        "id": "f9zI3HAcyhh4",
        "colab_type": "text"
      },
      "source": [
        "#Write a program to print all the possible number between 0 to 1001 range that satisfies below condition:\n",
        "\n",
        "Example: 29\n",
        "\n",
        "OUTPUT :\n",
        "(2*9)+(2+9)=29\n",
        "\n",
        "\n",
        "==================== QUESTION END =================="
      ]
    },
    {
      "cell_type": "code",
      "metadata": {
        "id": "SL91T2yJQYtB",
        "colab_type": "code",
        "colab": {
          "base_uri": "https://localhost:8080/",
          "height": 173
        },
        "outputId": "8d0124ad-8215-4c64-ac33-9ebd37ba6a43"
      },
      "source": [
        "for i in range(0,1002):\n",
        "  x=i\n",
        "  a=1\n",
        "  b=0\n",
        "  while x>0:\n",
        "    a=a*(x%10)\n",
        "    b=b+(x%10)\n",
        "    x=x//10\n",
        "\n",
        "  if (a+b)==i:\n",
        "    print(i)"
      ],
      "execution_count": 28,
      "outputs": [
        {
          "output_type": "stream",
          "text": [
            "19\n",
            "29\n",
            "39\n",
            "49\n",
            "59\n",
            "69\n",
            "79\n",
            "89\n",
            "99\n"
          ],
          "name": "stdout"
        }
      ]
    }
  ]
}