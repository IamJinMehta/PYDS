{
  "nbformat": 4,
  "nbformat_minor": 0,
  "metadata": {
    "colab": {
      "name": "JINENDRA MEHTA - Practical-18(180570107070).ipynb",
      "provenance": [],
      "collapsed_sections": [],
      "authorship_tag": "ABX9TyOqxl1Pn1kH8uBKHCgW4q4Q",
      "include_colab_link": true
    },
    "kernelspec": {
      "name": "python3",
      "display_name": "Python 3"
    }
  },
  "cells": [
    {
      "cell_type": "markdown",
      "metadata": {
        "id": "view-in-github",
        "colab_type": "text"
      },
      "source": [
        "<a href=\"https://colab.research.google.com/github/jinmeta/PYDS/blob/master/JINENDRA_MEHTA_Practical_18(180570107070).ipynb\" target=\"_parent\"><img src=\"https://colab.research.google.com/assets/colab-badge.svg\" alt=\"Open In Colab\"/></a>"
      ]
    },
    {
      "cell_type": "markdown",
      "metadata": {
        "id": "5RH-SBsiyyOt",
        "colab_type": "text"
      },
      "source": [
        "# Practical 18\n",
        "**Name:** Jinendra Mehta\n",
        "\n",
        "**Enrollment No:** 180570107070\n",
        "\n",
        "**Sem & Class:** 5EC2"
      ]
    },
    {
      "cell_type": "markdown",
      "metadata": {
        "id": "f9zI3HAcyhh4",
        "colab_type": "text"
      },
      "source": [
        "#Write a program to find and count vowels from the string.\n",
        "\n",
        "===================================================\n",
        "OUTPUT\n",
        "===================================================\n",
        "\n",
        "Enter the string: We are the CORONA fighters.    #User Input\n",
        "\n",
        "Available vowels in the string with count:\n",
        "\n",
        "a-2\n",
        "\n",
        "e-4\n",
        "\n",
        "i-1\n",
        "\n",
        "o-2\n",
        "\n",
        "u-0\n",
        "\n",
        "==================== QUESTION END =================="
      ]
    },
    {
      "cell_type": "code",
      "metadata": {
        "id": "wObmLcjmcHt1",
        "colab_type": "code",
        "colab": {
          "base_uri": "https://localhost:8080/",
          "height": 121
        },
        "outputId": "3c561e8a-2625-43ea-c5ab-954b41c0d9e5"
      },
      "source": [
        "x=input(\"Please Enter a string :\")\n",
        "A,E,I,O,U=0,0,0,0,0\n",
        "for j in x:\n",
        "  if j=='a' or j=='A':\n",
        "    A=A+1\n",
        "  if j=='e' or j=='E':\n",
        "    E=E+1\n",
        "  if j=='i' or j=='I':\n",
        "    I=I+1\n",
        "  if j=='o' or j=='O':\n",
        "    O=O+1\n",
        "  if j=='u' or j=='U':\n",
        "    U=U+1\n",
        "\n",
        "print(\"a-\",A,\"\\ne-\",E,\"\\ni-\",I,\"\\no-\",O,\"\\nu-\",U,sep='')"
      ],
      "execution_count": 4,
      "outputs": [
        {
          "output_type": "stream",
          "text": [
            "Please Enter a string :JINENDRA\n",
            "a-1\n",
            "e-1\n",
            "i-1\n",
            "o-0\n",
            "u-0\n"
          ],
          "name": "stdout"
        }
      ]
    }
  ]
}