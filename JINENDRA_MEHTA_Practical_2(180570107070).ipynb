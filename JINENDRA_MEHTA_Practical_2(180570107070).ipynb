{
  "nbformat": 4,
  "nbformat_minor": 0,
  "metadata": {
    "colab": {
      "name": "JINENDRA MEHTA - Practical-2(180570107070).ipynb",
      "provenance": [],
      "collapsed_sections": [],
      "authorship_tag": "ABX9TyOgjwS4ke7U6m1fv21oX8FW",
      "include_colab_link": true
    },
    "kernelspec": {
      "name": "python3",
      "display_name": "Python 3"
    }
  },
  "cells": [
    {
      "cell_type": "markdown",
      "metadata": {
        "id": "view-in-github",
        "colab_type": "text"
      },
      "source": [
        "<a href=\"https://colab.research.google.com/github/jinmeta/PYDS/blob/master/JINENDRA_MEHTA_Practical_2(180570107070).ipynb\" target=\"_parent\"><img src=\"https://colab.research.google.com/assets/colab-badge.svg\" alt=\"Open In Colab\"/></a>"
      ]
    },
    {
      "cell_type": "markdown",
      "metadata": {
        "id": "5RH-SBsiyyOt",
        "colab_type": "text"
      },
      "source": [
        "# Practical 1\n",
        "**Name:** Jinendra Mehta\n",
        "\n",
        "**Enrollment No:** 180570107070\n",
        "\n",
        "**Sem & Class:** 5EC2"
      ]
    },
    {
      "cell_type": "markdown",
      "metadata": {
        "id": "f9zI3HAcyhh4",
        "colab_type": "text"
      },
      "source": [
        "#Write a program to find ODD and EVEN number by using if-else-elif.\n",
        "\n",
        "====================\n",
        "Output:1\n",
        "====================\n",
        "\n",
        "Enter any integer value: 4   #An integer value will be given by the user. Hint:input\n",
        "4 is an EVEN number.\n",
        "\n",
        "====================\n",
        "Output:2\n",
        "====================\n",
        "\n",
        "Enter any integer value: 3   #An integer value will be given by the user. Hint:input\n",
        "7 is an ODD number.\n",
        "\n",
        "==================== OUTPUT END =================="
      ]
    },
    {
      "cell_type": "code",
      "metadata": {
        "id": "qct73fY2ygMU",
        "colab_type": "code",
        "colab": {
          "base_uri": "https://localhost:8080/",
          "height": 52
        },
        "outputId": "ba2b7b26-b2b7-486f-8b45-829995b3ef0f"
      },
      "source": [
        "x=int(input(\"please inpute any integer value :\"))\n",
        "if(x%2==0):\n",
        "  print(x,\" is EVEN number\")\n",
        "else:\n",
        "  print(x,\"is ODD number\")"
      ],
      "execution_count": 2,
      "outputs": [
        {
          "output_type": "stream",
          "text": [
            "please inpute any integer value :3\n",
            "3 is ODD number\n"
          ],
          "name": "stdout"
        }
      ]
    }
  ]
}