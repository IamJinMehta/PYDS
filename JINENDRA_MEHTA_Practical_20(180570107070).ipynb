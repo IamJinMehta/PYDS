{
  "nbformat": 4,
  "nbformat_minor": 0,
  "metadata": {
    "colab": {
      "name": "JINENDRA MEHTA - Practical-20(180570107070).ipynb",
      "provenance": [],
      "collapsed_sections": [],
      "authorship_tag": "ABX9TyMlUOIzw0GQ/lQnEwcZLeEo",
      "include_colab_link": true
    },
    "kernelspec": {
      "name": "python3",
      "display_name": "Python 3"
    }
  },
  "cells": [
    {
      "cell_type": "markdown",
      "metadata": {
        "id": "view-in-github",
        "colab_type": "text"
      },
      "source": [
        "<a href=\"https://colab.research.google.com/github/jinmeta/PYDS/blob/master/JINENDRA_MEHTA_Practical_20(180570107070).ipynb\" target=\"_parent\"><img src=\"https://colab.research.google.com/assets/colab-badge.svg\" alt=\"Open In Colab\"/></a>"
      ]
    },
    {
      "cell_type": "markdown",
      "metadata": {
        "id": "5RH-SBsiyyOt"
      },
      "source": [
        "# Practical 19\n",
        "**Name:** Jinendra Mehta\n",
        "\n",
        "**Enrollment No:** 180570107070\n",
        "\n",
        "**Sem & Class:** 5EC2"
      ]
    },
    {
      "cell_type": "code",
      "metadata": {
        "id": "TGZTV9ik3EP8",
        "outputId": "814a193d-1eec-4e29-c0f3-d4d900b762b5",
        "colab": {
          "base_uri": "https://localhost:8080/",
          "height": 139
        }
      },
      "source": [
        "x=int(input())\n",
        "for i in range(1,x+1):\n",
        "  print(\" \"*(x-i),\"* \"*i)\n"
      ],
      "execution_count": 5,
      "outputs": [
        {
          "output_type": "stream",
          "text": [
            "6\n",
            "      * \n",
            "     * * \n",
            "    * * * \n",
            "   * * * * \n",
            "  * * * * * \n",
            " * * * * * * \n"
          ],
          "name": "stdout"
        }
      ]
    },
    {
      "cell_type": "code",
      "metadata": {
        "id": "JUlfBkGDBmh9",
        "outputId": "7e0afab6-112d-4976-c2a8-bbaadebd3ec2",
        "colab": {
          "base_uri": "https://localhost:8080/",
          "height": 139
        }
      },
      "source": [
        "x=int(input())\n",
        "for i in range(0,x):\n",
        "  print(\" \"*i,\"* \"*(x-i))\n"
      ],
      "execution_count": 9,
      "outputs": [
        {
          "output_type": "stream",
          "text": [
            "6\n",
            " * * * * * * \n",
            "  * * * * * \n",
            "   * * * * \n",
            "    * * * \n",
            "     * * \n",
            "      * \n"
          ],
          "name": "stdout"
        }
      ]
    },
    {
      "cell_type": "code",
      "metadata": {
        "id": "Nf1DO7sif_gt"
      },
      "source": [
        ""
      ],
      "execution_count": null,
      "outputs": []
    }
  ]
}