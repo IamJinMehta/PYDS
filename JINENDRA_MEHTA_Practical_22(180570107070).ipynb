{
  "nbformat": 4,
  "nbformat_minor": 0,
  "metadata": {
    "colab": {
      "name": "JINENDRA MEHTA - Practical-22(180570107070).ipynb",
      "provenance": [],
      "collapsed_sections": [],
      "authorship_tag": "ABX9TyPZ/e7IDtgkT/Hb9mfY71dB",
      "include_colab_link": true
    },
    "kernelspec": {
      "name": "python3",
      "display_name": "Python 3"
    }
  },
  "cells": [
    {
      "cell_type": "markdown",
      "metadata": {
        "id": "view-in-github",
        "colab_type": "text"
      },
      "source": [
        "<a href=\"https://colab.research.google.com/github/jinmeta/PYDS/blob/master/JINENDRA_MEHTA_Practical_22(180570107070).ipynb\" target=\"_parent\"><img src=\"https://colab.research.google.com/assets/colab-badge.svg\" alt=\"Open In Colab\"/></a>"
      ]
    },
    {
      "cell_type": "markdown",
      "metadata": {
        "id": "5RH-SBsiyyOt"
      },
      "source": [
        "# Practical 22\n",
        "\n",
        "**Name:** Jinendra Mehta\n",
        "\n",
        "**Enrollment No:** 180570107070\n",
        "\n",
        "**Sem & Class:** 5EC2"
      ]
    },
    {
      "cell_type": "code",
      "metadata": {
        "id": "Ih807yPNmSMI",
        "outputId": "a06817ef-e3c5-41eb-e73a-d4e9cb613e8c",
        "colab": {
          "base_uri": "https://localhost:8080/",
          "height": 156
        }
      },
      "source": [
        "x=input()\n",
        "y=list(x)\n",
        "j=0\n",
        "for i in range(len(y)):\n",
        "  m=0\n",
        "  while m<=i:\n",
        "    print(y[m],end=\"\")\n",
        "    m+=1\n",
        "  j+=1\n",
        "  print(\"\")"
      ],
      "execution_count": 9,
      "outputs": [
        {
          "output_type": "stream",
          "text": [
            "MARWADI\n",
            "M\n",
            "MA\n",
            "MAR\n",
            "MARW\n",
            "MARWA\n",
            "MARWAD\n",
            "MARWADI\n"
          ],
          "name": "stdout"
        }
      ]
    },
    {
      "cell_type": "code",
      "metadata": {
        "id": "6w2wQ4y43WEC",
        "outputId": "062e3f2d-9c97-4a2d-855a-69915c14292a",
        "colab": {
          "base_uri": "https://localhost:8080/",
          "height": 156
        }
      },
      "source": [
        "y=input()\n",
        "x=list(y)\n",
        "l=len(x)\n",
        "for i in range(len(x)):\n",
        "  j=0\n",
        "  print(\" \"*(len(x)-i),end=\"\")\n",
        "  while j<=i:\n",
        "    print(x[j],\"\",end=\"\")\n",
        "    j+=1\n",
        "  print(\"\")"
      ],
      "execution_count": 11,
      "outputs": [
        {
          "output_type": "stream",
          "text": [
            "MARWADI\n",
            "       M \n",
            "      M A \n",
            "     M A R \n",
            "    M A R W \n",
            "   M A R W A \n",
            "  M A R W A D \n",
            " M A R W A D I \n"
          ],
          "name": "stdout"
        }
      ]
    },
    {
      "cell_type": "code",
      "metadata": {
        "id": "JKtYgodd7zaa"
      },
      "source": [
        ""
      ],
      "execution_count": null,
      "outputs": []
    }
  ]
}