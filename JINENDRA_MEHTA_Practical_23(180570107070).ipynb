{
  "nbformat": 4,
  "nbformat_minor": 0,
  "metadata": {
    "colab": {
      "name": "JINENDRA MEHTA - Practical-23(180570107070).ipynb",
      "provenance": [],
      "collapsed_sections": [],
      "authorship_tag": "ABX9TyMWf11h+F0rjPIt2aD4iBVu",
      "include_colab_link": true
    },
    "kernelspec": {
      "name": "python3",
      "display_name": "Python 3"
    }
  },
  "cells": [
    {
      "cell_type": "markdown",
      "metadata": {
        "id": "view-in-github",
        "colab_type": "text"
      },
      "source": [
        "<a href=\"https://colab.research.google.com/github/jinmeta/PYDS/blob/master/JINENDRA_MEHTA_Practical_23(180570107070).ipynb\" target=\"_parent\"><img src=\"https://colab.research.google.com/assets/colab-badge.svg\" alt=\"Open In Colab\"/></a>"
      ]
    },
    {
      "cell_type": "markdown",
      "metadata": {
        "id": "5RH-SBsiyyOt"
      },
      "source": [
        "# Practical 23\n",
        "\n",
        "**Name:** Jinendra Mehta\n",
        "\n",
        "**Enrollment No:** 180570107070\n",
        "\n",
        "**Sem & Class:** 5EC2"
      ]
    },
    {
      "cell_type": "code",
      "metadata": {
        "id": "47940noEBRUd",
        "outputId": "c9e6d261-406b-44d4-8add-53a91a250027",
        "colab": {
          "base_uri": "https://localhost:8080/",
          "height": 121
        }
      },
      "source": [
        "from math import factorial as fact\n",
        "def ncn(n,c):\n",
        "  return int(fact(n)/(fact(c)*fact(n-c)))\n",
        "x=int(input())\n",
        "m=1\n",
        "for i in range(x):\n",
        "  j=0\n",
        "  print(format(\"  \"*(x-i),\"<2\"),end=\"\")\n",
        "  while j<=i:\n",
        "    print(format(ncn(i,j),\"<3\"),end=\" \")\n",
        "    m+=1\n",
        "    j+=1\n",
        "  print(\"\")"
      ],
      "execution_count": 52,
      "outputs": [
        {
          "output_type": "stream",
          "text": [
            "5\n",
            "          1   \n",
            "        1   1   \n",
            "      1   2   1   \n",
            "    1   3   3   1   \n",
            "  1   4   6   4   1   \n"
          ],
          "name": "stdout"
        }
      ]
    },
    {
      "cell_type": "code",
      "metadata": {
        "id": "zyO6ZB0jFIht"
      },
      "source": [
        ""
      ],
      "execution_count": null,
      "outputs": []
    }
  ]
}