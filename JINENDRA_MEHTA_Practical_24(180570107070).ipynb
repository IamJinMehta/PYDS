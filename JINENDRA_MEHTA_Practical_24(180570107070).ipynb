{
  "nbformat": 4,
  "nbformat_minor": 0,
  "metadata": {
    "colab": {
      "name": "JINENDRA MEHTA - Practical-24(180570107070).ipynb",
      "provenance": [],
      "collapsed_sections": [],
      "authorship_tag": "ABX9TyPe0xyaFRzJSKbFYH5ktIfc",
      "include_colab_link": true
    },
    "kernelspec": {
      "name": "python3",
      "display_name": "Python 3"
    }
  },
  "cells": [
    {
      "cell_type": "markdown",
      "metadata": {
        "id": "view-in-github",
        "colab_type": "text"
      },
      "source": [
        "<a href=\"https://colab.research.google.com/github/jinmeta/PYDS/blob/master/JINENDRA_MEHTA_Practical_24(180570107070).ipynb\" target=\"_parent\"><img src=\"https://colab.research.google.com/assets/colab-badge.svg\" alt=\"Open In Colab\"/></a>"
      ]
    },
    {
      "cell_type": "markdown",
      "metadata": {
        "id": "5RH-SBsiyyOt"
      },
      "source": [
        "# Practical 24\n",
        "\n",
        "**Name:** Jinendra Mehta\n",
        "\n",
        "**Enrollment No:** 180570107070\n",
        "\n",
        "**Sem & Class:** 5EC2"
      ]
    },
    {
      "cell_type": "code",
      "metadata": {
        "id": "3D9zr8oWfJ-F",
        "outputId": "95711c17-0300-493a-a98f-db0ee3c34084",
        "colab": {
          "base_uri": "https://localhost:8080/",
          "height": 69
        }
      },
      "source": [
        "def gcd(x,y):\n",
        "  i=1\n",
        "  while(i<=x and i<=y):\n",
        "    if (x%i==0 and y%i==0):\n",
        "      gcd=i\n",
        "    i+=1\n",
        "  return gcd\n",
        "\n",
        "a=int(input(\"First Number :\"))\n",
        "b=int(input(\"Second Number :\"))\n",
        "gcd(a,b)"
      ],
      "execution_count": 18,
      "outputs": [
        {
          "output_type": "stream",
          "text": [
            "First Number :16\n",
            "Second Number :48\n"
          ],
          "name": "stdout"
        },
        {
          "output_type": "execute_result",
          "data": {
            "text/plain": [
              "16"
            ]
          },
          "metadata": {
            "tags": []
          },
          "execution_count": 18
        }
      ]
    },
    {
      "cell_type": "code",
      "metadata": {
        "id": "wbkuXW7mf4zZ"
      },
      "source": [
        ""
      ],
      "execution_count": null,
      "outputs": []
    }
  ]
}