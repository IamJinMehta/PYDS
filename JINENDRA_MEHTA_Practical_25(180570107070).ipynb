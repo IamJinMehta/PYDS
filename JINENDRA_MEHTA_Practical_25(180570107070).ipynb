{
  "nbformat": 4,
  "nbformat_minor": 0,
  "metadata": {
    "colab": {
      "name": "JINENDRA MEHTA - Practical-25(180570107070).ipynb",
      "provenance": [],
      "collapsed_sections": [],
      "authorship_tag": "ABX9TyM+Y2oqC81V6VEkq054ObDC",
      "include_colab_link": true
    },
    "kernelspec": {
      "name": "python3",
      "display_name": "Python 3"
    }
  },
  "cells": [
    {
      "cell_type": "markdown",
      "metadata": {
        "id": "view-in-github",
        "colab_type": "text"
      },
      "source": [
        "<a href=\"https://colab.research.google.com/github/jinmeta/PYDS/blob/master/JINENDRA_MEHTA_Practical_25(180570107070).ipynb\" target=\"_parent\"><img src=\"https://colab.research.google.com/assets/colab-badge.svg\" alt=\"Open In Colab\"/></a>"
      ]
    },
    {
      "cell_type": "markdown",
      "metadata": {
        "id": "5RH-SBsiyyOt"
      },
      "source": [
        "# Practical 25\n",
        "\n",
        "**Name:** Jinendra Mehta\n",
        "\n",
        "**Enrollment No:** 180570107070\n",
        "\n",
        "**Sem & Class:** 5EC2"
      ]
    },
    {
      "cell_type": "code",
      "metadata": {
        "id": "3D9zr8oWfJ-F",
        "outputId": "93568805-92a2-4e46-b209-9bf81adb89ee",
        "colab": {
          "base_uri": "https://localhost:8080/",
          "height": 52
        }
      },
      "source": [
        "x=int(input())\n",
        "lst=list()\n",
        "for i in range(1,x+1):\n",
        "  if x%i==0:\n",
        "    lst.append(i)\n",
        "\n",
        "for j in lst:\n",
        "  if j==x:\n",
        "    print(j)\n",
        "    break\n",
        "  print(j,\",\",end=\"\",sep=\"\")"
      ],
      "execution_count": 10,
      "outputs": [
        {
          "output_type": "stream",
          "text": [
            "12\n",
            "1,2,3,4,6,12\n"
          ],
          "name": "stdout"
        }
      ]
    }
  ]
}