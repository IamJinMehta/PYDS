{
  "nbformat": 4,
  "nbformat_minor": 0,
  "metadata": {
    "colab": {
      "name": "JINENDRA MEHTA - Practical-3(180570107070).ipynb",
      "provenance": [],
      "collapsed_sections": [],
      "authorship_tag": "ABX9TyNoKRwJDl+W+bb5HePLBuv1",
      "include_colab_link": true
    },
    "kernelspec": {
      "name": "python3",
      "display_name": "Python 3"
    }
  },
  "cells": [
    {
      "cell_type": "markdown",
      "metadata": {
        "id": "view-in-github",
        "colab_type": "text"
      },
      "source": [
        "<a href=\"https://colab.research.google.com/github/jinmeta/PYDS/blob/master/JINENDRA_MEHTA_Practical_3(180570107070).ipynb\" target=\"_parent\"><img src=\"https://colab.research.google.com/assets/colab-badge.svg\" alt=\"Open In Colab\"/></a>"
      ]
    },
    {
      "cell_type": "markdown",
      "metadata": {
        "id": "5RH-SBsiyyOt",
        "colab_type": "text"
      },
      "source": [
        "# Practical 3\n",
        "**Name:** Jinendra Mehta\n",
        "\n",
        "**Enrollment No:** 180570107070\n",
        "\n",
        "**Sem & Class:** 5EC2"
      ]
    },
    {
      "cell_type": "markdown",
      "metadata": {
        "id": "f9zI3HAcyhh4",
        "colab_type": "text"
      },
      "source": [
        "#Write a program to print POSITIVE, NEGATIVE and ZERO by using if-else-elif.\n",
        "\n",
        "====================\n",
        "Output:1\n",
        "====================\n",
        "\n",
        "Enter any integer value: 0   #An integer value will be given by the user. Hint:input\n",
        "The given number is a ZERO.\n",
        "\n",
        "====================\n",
        "Output:2\n",
        "====================\n",
        "\n",
        "Enter any integer value: -2   #An integer value will be given by the user. Hint:input\n",
        "The given number is a NEGATIVE.\n",
        "\n",
        "====================\n",
        "Output:3\n",
        "====================\n",
        "\n",
        "Enter any integer value: 3   #An integer value will be given by the user. Hint:input\n",
        "The given number is a POSITIVE.\n",
        "\n",
        "==================== OUTPUT END =================="
      ]
    },
    {
      "cell_type": "code",
      "metadata": {
        "id": "qct73fY2ygMU",
        "colab_type": "code",
        "colab": {
          "base_uri": "https://localhost:8080/",
          "height": 52
        },
        "outputId": "cd474db1-96bf-485d-931e-59631fb3c23e"
      },
      "source": [
        "x=int(input(\"please inpute any integer value :\"))\n",
        "if(x>0):\n",
        "  print(\"POSITIVE\")\n",
        "elif(x==0):\n",
        "  print(\"ZERO\")\n",
        "else:\n",
        "  print(\"NEGATIVE\")"
      ],
      "execution_count": 4,
      "outputs": [
        {
          "output_type": "stream",
          "text": [
            "please inpute any integer value :3\n",
            "POSITIVE\n"
          ],
          "name": "stdout"
        }
      ]
    }
  ]
}