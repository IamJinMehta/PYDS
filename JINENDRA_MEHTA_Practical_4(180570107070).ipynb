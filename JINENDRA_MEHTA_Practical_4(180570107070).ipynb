{
  "nbformat": 4,
  "nbformat_minor": 0,
  "metadata": {
    "colab": {
      "name": "JINENDRA MEHTA - Practical-4(180570107070).ipynb",
      "provenance": [],
      "collapsed_sections": [],
      "authorship_tag": "ABX9TyMsEvxEDZDGyoMimQ+L3gU0",
      "include_colab_link": true
    },
    "kernelspec": {
      "name": "python3",
      "display_name": "Python 3"
    }
  },
  "cells": [
    {
      "cell_type": "markdown",
      "metadata": {
        "id": "view-in-github",
        "colab_type": "text"
      },
      "source": [
        "<a href=\"https://colab.research.google.com/github/jinmeta/PYDS/blob/master/JINENDRA_MEHTA_Practical_4(180570107070).ipynb\" target=\"_parent\"><img src=\"https://colab.research.google.com/assets/colab-badge.svg\" alt=\"Open In Colab\"/></a>"
      ]
    },
    {
      "cell_type": "markdown",
      "metadata": {
        "id": "5RH-SBsiyyOt",
        "colab_type": "text"
      },
      "source": [
        "# Practical 4\n",
        "**Name:** Jinendra Mehta\n",
        "\n",
        "**Enrollment No:** 180570107070\n",
        "\n",
        "**Sem & Class:** 5EC2"
      ]
    },
    {
      "cell_type": "markdown",
      "metadata": {
        "id": "f9zI3HAcyhh4",
        "colab_type": "text"
      },
      "source": [
        "#Write a program to create a simple calculator to do arithmetic opreration.\n",
        "\n",
        "====================\n",
        "Output:1\n",
        "====================\n",
        "\n",
        "1. Addition\n",
        "2. Substraction\n",
        "3. Division\n",
        "4. Multiplication\n",
        "5. Power\n",
        "\n",
        "Choose any number from the above list to do the arithmetic operation: 1  # User Input\n",
        "Enter value A: 10\n",
        "Enter value B: 20\n",
        "\n",
        "10+20 = 30\n",
        "\n",
        "====================\n",
        "Output:2\n",
        "====================\n",
        "\n",
        "1. Addition\n",
        "2. Substraction\n",
        "3. Division\n",
        "4. Multiplication\n",
        "5. Power\n",
        "\n",
        "Choose any number from the above list to do the arithmetic operation: 4  # User Input\n",
        "Enter value A: 10\n",
        "Enter value B: 20\n",
        "\n",
        "10*20 = 200\n",
        "\n",
        "\n",
        "\n",
        "==================== OUTPUT END =================="
      ]
    },
    {
      "cell_type": "code",
      "metadata": {
        "id": "qct73fY2ygMU",
        "colab_type": "code",
        "colab": {
          "base_uri": "https://localhost:8080/",
          "height": 225
        },
        "outputId": "c708f2be-6784-4e04-e9ca-102f3a9a675a"
      },
      "source": [
        "import sys\n",
        "print('1.Addition\\n2.Substraction\\n3.Division\\n4.Multiplication\\n5.Power')\n",
        "x=int(input(\"Please inpute any one choice :\"))\n",
        "print(\"=====================================================================\")\n",
        "while x>5 or x<1:\n",
        "  print(\"please select the right choice\")\n",
        "  x=int(input(\"Please inpute any one choice :\"))\n",
        "  print(\"=====================================================================\")\n",
        "  print(\" \")\n",
        "A=int(input(\"Please input your A value :\"))\n",
        "B=int(input(\"Please input your B value :\"))\n",
        "print(\"=====================================================================\")\n",
        "if x==1:\n",
        "  print(A,\"+\",B,\"=\",A+B,sep=\"\")\n",
        "elif x==2:\n",
        "  print(A,\"-\",B,\"=\",A-B,sep=\"\")\n",
        "elif x==3:\n",
        "  print(A,\"/\",B,\"=\",A/B,sep=\"\")\n",
        "elif x==4:\n",
        "  print(A,\"*\",B,\"=\",A*B,sep=\"\")\n",
        "elif x==5:\n",
        "  print(A,\"^\",B,\"=\",A**B,sep=\"\")\n",
        "print(\"=====================================================================\")"
      ],
      "execution_count": null,
      "outputs": [
        {
          "output_type": "stream",
          "text": [
            "1.Addition\n",
            "2.Substraction\n",
            "3.Division\n",
            "4.Multiplication\n",
            "5.Power\n",
            "Please inpute any one choice :3\n",
            "=====================================================================\n",
            "Please input your A value :5\n",
            "Please input your B value :2\n",
            "=====================================================================\n",
            "5/2=2.5\n",
            "=====================================================================\n"
          ],
          "name": "stdout"
        }
      ]
    }
  ]
}