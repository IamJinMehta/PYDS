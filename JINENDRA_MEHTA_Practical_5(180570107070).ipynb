{
  "nbformat": 4,
  "nbformat_minor": 0,
  "metadata": {
    "colab": {
      "name": "JINENDRA MEHTA - Practical-5(180570107070).ipynb",
      "provenance": [],
      "collapsed_sections": [],
      "authorship_tag": "ABX9TyNXH/MRidp2k54sf3XIKFBi",
      "include_colab_link": true
    },
    "kernelspec": {
      "name": "python3",
      "display_name": "Python 3"
    }
  },
  "cells": [
    {
      "cell_type": "markdown",
      "metadata": {
        "id": "view-in-github",
        "colab_type": "text"
      },
      "source": [
        "<a href=\"https://colab.research.google.com/github/jinmeta/PYDS/blob/master/JINENDRA_MEHTA_Practical_5(180570107070).ipynb\" target=\"_parent\"><img src=\"https://colab.research.google.com/assets/colab-badge.svg\" alt=\"Open In Colab\"/></a>"
      ]
    },
    {
      "cell_type": "markdown",
      "metadata": {
        "id": "5RH-SBsiyyOt",
        "colab_type": "text"
      },
      "source": [
        "# Practical 5\n",
        "**Name:** Jinendra Mehta\n",
        "\n",
        "**Enrollment No:** 180570107070\n",
        "\n",
        "**Sem & Class:** 5EC2"
      ]
    },
    {
      "cell_type": "markdown",
      "metadata": {
        "id": "f9zI3HAcyhh4",
        "colab_type": "text"
      },
      "source": [
        "#Write a program to create a simple calculator to find area of the shapes.\n",
        "\n",
        "====================\n",
        "Output:1\n",
        "====================\n",
        "\n",
        "1. Square\n",
        "2. Rectangle\n",
        "3. Triangle\n",
        "4. Circle\n",
        "\n",
        "Choose any number from the above list to calculate area of the shape: 1  # User Input\n",
        "\n",
        "Enter side a: 5\n",
        "5*5 = 25\n",
        "Area of the square is: 25.\n",
        "\n",
        "====================\n",
        "Output:2\n",
        "====================\n",
        "\n",
        "1. Square\n",
        "2. Rectangle\n",
        "3. Triangle\n",
        "4. Circle\n",
        "\n",
        "Choose any number from the above list to calculate area of the shape: 2  # User Input\n",
        "\n",
        "Enter width w: 5\n",
        "Enter length l: 3\n",
        "\n",
        "5*3 = 15\n",
        "Area of the rectangle is: 15.\n",
        "\n",
        "====================\n",
        "Output:3\n",
        "====================\n",
        "\n",
        "1. Square\n",
        "2. Rectangle\n",
        "3. Triangle\n",
        "4. Circle\n",
        "\n",
        "Choose any number from the above list to calculate area of the shape: 3  # User Input\n",
        "\n",
        "Enter base b: 6\n",
        "Enter height h: 7\n",
        "(7*6)/2 = 21\n",
        "Area of the triangle is: 42.\n",
        "\n",
        "====================\n",
        "Output:4\n",
        "====================\n",
        "\n",
        "1. Square\n",
        "2. Rectangle\n",
        "3. Triangle\n",
        "4. Circle\n",
        "\n",
        "Choose any number from the above list to calculate area of the shape: 4  # User Input\n",
        "\n",
        "Enter radius r: 4\n",
        "3.14*4*4 = 50.27     # Please print output in 00.00 format only.\n",
        "Area of the circle is: 50.27.\n",
        "\n",
        "\n",
        "\n",
        "==================== OUTPUT END =================="
      ]
    },
    {
      "cell_type": "code",
      "metadata": {
        "id": "Zkd_uDD4DZB5",
        "colab_type": "code",
        "colab": {
          "base_uri": "https://localhost:8080/",
          "height": 381
        },
        "outputId": "d7b9d97b-01cb-427e-8163-e4376ad368be"
      },
      "source": [
        "print(\"1.Square\\n2.Rectangle\\n3.Triangle\\n4.Circle\")\n",
        "x=int(input(\"Please inpute any one Shape to find Area :\"))\n",
        "print(\"=====================================================================\")\n",
        "while x>4 or x<1:\n",
        "  print(\"please select the right choice\")\n",
        "  x=int(input(\"Please inpute any one Shape to find Area :\"))\n",
        "  print(\" \")\n",
        "  print(\"=====================================================================\")\n",
        "if x==1:\n",
        "  a=int(input(\"Please Enter a side:\"))\n",
        "  print(\"Area of the square is:\",(a**2))\n",
        "elif x==2:\n",
        "  w=int(input(\"Please Enter the width of rectangle:\"))\n",
        "  l=int(input(\"Please Enter the length of rectangle:\"))\n",
        "  print(\"Area of the rectangle is:\",(l*w))\n",
        "elif x==3:\n",
        "  b=int(input(\"Please Enter the base of triangle:\"))\n",
        "  h=int(input(\"Please Enter the hight of triangle:\"))\n",
        "  print(\"Area of the triangle is:\",(0.5*b*h))\n",
        "elif x==4:\n",
        "  r=int(input(\"Plase input the radius of the circle:\"))\n",
        "  print(\"Area of the circle is:\",(3.144*r*r))\n",
        "print(\"=====================================================================\")"
      ],
      "execution_count": 9,
      "outputs": [
        {
          "output_type": "stream",
          "text": [
            "1.Square\n",
            "2.Rectangle\n",
            "3.Triangle\n",
            "4.Circle\n",
            "Please inpute any one Shape to find Area :-1\n",
            "=====================================================================\n",
            "please select the right choice\n",
            "Please inpute any one Shape to find Area :-100\n",
            " \n",
            "=====================================================================\n",
            "please select the right choice\n",
            "Please inpute any one Shape to find Area :-4\n",
            " \n",
            "=====================================================================\n",
            "please select the right choice\n",
            "Please inpute any one Shape to find Area :1\n",
            " \n",
            "=====================================================================\n",
            "Please Enter a side:0\n",
            "Area of the square is: 0\n",
            "=====================================================================\n"
          ],
          "name": "stdout"
        }
      ]
    }
  ]
}