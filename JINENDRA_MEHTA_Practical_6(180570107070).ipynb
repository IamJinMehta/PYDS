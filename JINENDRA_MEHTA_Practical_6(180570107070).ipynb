{
  "nbformat": 4,
  "nbformat_minor": 0,
  "metadata": {
    "colab": {
      "name": "JINENDRA MEHTA - Practical-6(180570107070).ipynb",
      "provenance": [],
      "collapsed_sections": [],
      "authorship_tag": "ABX9TyM+2+p32uzPUB13oa1la5yP",
      "include_colab_link": true
    },
    "kernelspec": {
      "name": "python3",
      "display_name": "Python 3"
    }
  },
  "cells": [
    {
      "cell_type": "markdown",
      "metadata": {
        "id": "view-in-github",
        "colab_type": "text"
      },
      "source": [
        "<a href=\"https://colab.research.google.com/github/jinmeta/PYDS/blob/master/JINENDRA_MEHTA_Practical_6(180570107070).ipynb\" target=\"_parent\"><img src=\"https://colab.research.google.com/assets/colab-badge.svg\" alt=\"Open In Colab\"/></a>"
      ]
    },
    {
      "cell_type": "markdown",
      "metadata": {
        "id": "5RH-SBsiyyOt",
        "colab_type": "text"
      },
      "source": [
        "# Practical 6\n",
        "**Name:** Jinendra Mehta\n",
        "\n",
        "**Enrollment No:** 180570107070\n",
        "\n",
        "**Sem & Class:** 5EC2"
      ]
    },
    {
      "cell_type": "markdown",
      "metadata": {
        "id": "f9zI3HAcyhh4",
        "colab_type": "text"
      },
      "source": [
        "#Write a program to identify given year is leap year or not.\n",
        "\n",
        "====================\n",
        "Output:1\n",
        "====================\n",
        "\n",
        "Please enter year: 2000  # User Input\n",
        "Year 2000 is a leap year.\n",
        "\n",
        "====================\n",
        "Output:2\n",
        "====================\n",
        "\n",
        "Please enter year: 2001  # User Input\n",
        "Year 2001 is not a leap year.\n",
        "\n",
        "==================== OUTPUT END =================="
      ]
    },
    {
      "cell_type": "code",
      "metadata": {
        "id": "hp1sY6aSd8fE",
        "colab_type": "code",
        "colab": {
          "base_uri": "https://localhost:8080/",
          "height": 52
        },
        "outputId": "b4491366-6198-499c-bed2-958d9b5b3a6a"
      },
      "source": [
        "x=int(input(\"Please input year to check :\"))\n",
        "if x%4==0:\n",
        "  if x%100==0:\n",
        "    if x%400==0:\n",
        "      print(\"Year\",x,\"is a leap year\")\n",
        "    else:\n",
        "      print(\"Year\",x,\"is not a leap year\")\n",
        "  else:\n",
        "    print(\"Year\",x,\"is a leap year\")\n",
        "else:\n",
        "  print(\"Year\",x,\"is not a leap year\")"
      ],
      "execution_count": 12,
      "outputs": [
        {
          "output_type": "stream",
          "text": [
            "Please input year to check :1900\n",
            "Year 1900 is not a leap year\n"
          ],
          "name": "stdout"
        }
      ]
    }
  ]
}