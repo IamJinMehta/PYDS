{
  "nbformat": 4,
  "nbformat_minor": 0,
  "metadata": {
    "colab": {
      "name": "JINENDRA MEHTA - Practical-7(180570107070).ipynb",
      "provenance": [],
      "collapsed_sections": [],
      "authorship_tag": "ABX9TyPaYToMwPIQIlVrdxiGbiV5",
      "include_colab_link": true
    },
    "kernelspec": {
      "name": "python3",
      "display_name": "Python 3"
    }
  },
  "cells": [
    {
      "cell_type": "markdown",
      "metadata": {
        "id": "view-in-github",
        "colab_type": "text"
      },
      "source": [
        "<a href=\"https://colab.research.google.com/github/jinmeta/PYDS/blob/master/JINENDRA_MEHTA_Practical_7(180570107070).ipynb\" target=\"_parent\"><img src=\"https://colab.research.google.com/assets/colab-badge.svg\" alt=\"Open In Colab\"/></a>"
      ]
    },
    {
      "cell_type": "markdown",
      "metadata": {
        "id": "5RH-SBsiyyOt",
        "colab_type": "text"
      },
      "source": [
        "# Practical 7\n",
        "**Name:** Jinendra Mehta\n",
        "\n",
        "**Enrollment No:** 180570107070\n",
        "\n",
        "**Sem & Class:** 5EC2"
      ]
    },
    {
      "cell_type": "markdown",
      "metadata": {
        "id": "f9zI3HAcyhh4",
        "colab_type": "text"
      },
      "source": [
        "#Write a program to print below output by using for loop.\n",
        "\n",
        "====================\n",
        "Output:\n",
        "====================\n",
        "1. Hello\n",
        "2. Hello\n",
        "3. Hello\n",
        "4. Hello\n",
        "5. Hello\n",
        "6. Hello\n",
        "7. Hello\n",
        "8. Hello\n",
        "9. Hello\n",
        "10. Hello\n",
        "\n",
        "==================== OUTPUT END =================="
      ]
    },
    {
      "cell_type": "code",
      "metadata": {
        "id": "lQN0W6Cosf5P",
        "colab_type": "code",
        "colab": {
          "base_uri": "https://localhost:8080/",
          "height": 191
        },
        "outputId": "9644ab7c-c8e4-47bd-c073-116ec3cbe0d1"
      },
      "source": [
        "for i in range(10):\n",
        "    print(i+1,'.',sep='',end='')\n",
        "    print(\"Hello\")"
      ],
      "execution_count": 1,
      "outputs": [
        {
          "output_type": "stream",
          "text": [
            "1.Hello\n",
            "2.Hello\n",
            "3.Hello\n",
            "4.Hello\n",
            "5.Hello\n",
            "6.Hello\n",
            "7.Hello\n",
            "8.Hello\n",
            "9.Hello\n",
            "10.Hello\n"
          ],
          "name": "stdout"
        }
      ]
    }
  ]
}