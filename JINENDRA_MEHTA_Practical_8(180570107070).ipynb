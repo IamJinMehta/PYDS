{
  "nbformat": 4,
  "nbformat_minor": 0,
  "metadata": {
    "colab": {
      "name": "JINENDRA MEHTA - Practical-8(180570107070).ipynb",
      "provenance": [],
      "collapsed_sections": [],
      "authorship_tag": "ABX9TyPLRbxi/zhxvBs1ZsaSgJzF",
      "include_colab_link": true
    },
    "kernelspec": {
      "name": "python3",
      "display_name": "Python 3"
    }
  },
  "cells": [
    {
      "cell_type": "markdown",
      "metadata": {
        "id": "view-in-github",
        "colab_type": "text"
      },
      "source": [
        "<a href=\"https://colab.research.google.com/github/jinmeta/PYDS/blob/master/JINENDRA_MEHTA_Practical_8(180570107070).ipynb\" target=\"_parent\"><img src=\"https://colab.research.google.com/assets/colab-badge.svg\" alt=\"Open In Colab\"/></a>"
      ]
    },
    {
      "cell_type": "markdown",
      "metadata": {
        "id": "5RH-SBsiyyOt",
        "colab_type": "text"
      },
      "source": [
        "# Practical 8\n",
        "**Name:** Jinendra Mehta\n",
        "\n",
        "**Enrollment No:** 180570107070\n",
        "\n",
        "**Sem & Class:** 5EC2"
      ]
    },
    {
      "cell_type": "markdown",
      "metadata": {
        "id": "f9zI3HAcyhh4",
        "colab_type": "text"
      },
      "source": [
        "#Write a program to create meter converter function and print the output as below.\n",
        "\n",
        "====================\n",
        "Output:\n",
        "====================\n",
        "mtrcnv(1) ----> Create user defined function.\n",
        "\n",
        "1. 1 mtr = 100 cm\n",
        "2. 1 mtr = 3.28 feet\n",
        "3. 1 mtr = 39.37 inch\n",
        "4. 1 mtr = 1.09 yard\n",
        "\n",
        "==================== OUTPUT END =================="
      ]
    },
    {
      "cell_type": "code",
      "metadata": {
        "id": "V4IRUBfAw-IR",
        "colab_type": "code",
        "colab": {
          "base_uri": "https://localhost:8080/",
          "height": 87
        },
        "outputId": "baa1d4a5-5a2e-4d83-83c5-4a8ec1bb08b2"
      },
      "source": [
        "def mtrcnv(x):\n",
        "  print(x,\"MTR =\",x*100,\"CM\")\n",
        "  print(x,\"MTR =\",\"{:.2f}\".format(x*3.28084),\"FEET\")\n",
        "  print(x,\"MTR =\",\"{:.2f}\".format(x*39.3701),\"INCH\")\n",
        "  print(x,\"MTR =\",\"{:.2f}\".format(x*1.09),\"YARD\")\n",
        "\n",
        "mtrcnv(1)"
      ],
      "execution_count": 5,
      "outputs": [
        {
          "output_type": "stream",
          "text": [
            "1 MTR = 100 CM\n",
            "1 MTR = 3.28 FEET\n",
            "1 MTR = 39.37 INCH\n",
            "1 MTR = 1.09 YARD\n"
          ],
          "name": "stdout"
        }
      ]
    }
  ]
}